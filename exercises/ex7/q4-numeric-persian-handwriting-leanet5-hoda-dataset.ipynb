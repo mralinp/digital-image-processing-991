{
  "nbformat": 4,
  "nbformat_minor": 0,
  "metadata": {
    "colab": {
      "name": "numeric-persian-handwriting-leanet5-hoda-dataset.ipynb",
      "provenance": [],
      "collapsed_sections": []
    },
    "kernelspec": {
      "name": "python3",
      "display_name": "Python 3"
    },
    "accelerator": "GPU",
    "widgets": {
      "application/vnd.jupyter.widget-state+json": {
        "390573eb34084911a165f20291823636": {
          "model_module": "@jupyter-widgets/controls",
          "model_name": "HBoxModel",
          "state": {
            "_view_name": "HBoxView",
            "_dom_classes": [],
            "_model_name": "HBoxModel",
            "_view_module": "@jupyter-widgets/controls",
            "_model_module_version": "1.5.0",
            "_view_count": null,
            "_view_module_version": "1.5.0",
            "box_style": "",
            "layout": "IPY_MODEL_82ebcc3864634b40acb5ad69c6d9ba55",
            "_model_module": "@jupyter-widgets/controls",
            "children": [
              "IPY_MODEL_e2ead38ed1bf4316affda58d89a89e4c",
              "IPY_MODEL_fb762a678dd84d44ad4b44b0a36b21e5"
            ]
          }
        },
        "82ebcc3864634b40acb5ad69c6d9ba55": {
          "model_module": "@jupyter-widgets/base",
          "model_name": "LayoutModel",
          "state": {
            "_view_name": "LayoutView",
            "grid_template_rows": null,
            "right": null,
            "justify_content": null,
            "_view_module": "@jupyter-widgets/base",
            "overflow": null,
            "_model_module_version": "1.2.0",
            "_view_count": null,
            "flex_flow": null,
            "width": null,
            "min_width": null,
            "border": null,
            "align_items": null,
            "bottom": null,
            "_model_module": "@jupyter-widgets/base",
            "top": null,
            "grid_column": null,
            "overflow_y": null,
            "overflow_x": null,
            "grid_auto_flow": null,
            "grid_area": null,
            "grid_template_columns": null,
            "flex": null,
            "_model_name": "LayoutModel",
            "justify_items": null,
            "grid_row": null,
            "max_height": null,
            "align_content": null,
            "visibility": null,
            "align_self": null,
            "height": null,
            "min_height": null,
            "padding": null,
            "grid_auto_rows": null,
            "grid_gap": null,
            "max_width": null,
            "order": null,
            "_view_module_version": "1.2.0",
            "grid_template_areas": null,
            "object_position": null,
            "object_fit": null,
            "grid_auto_columns": null,
            "margin": null,
            "display": null,
            "left": null
          }
        },
        "e2ead38ed1bf4316affda58d89a89e4c": {
          "model_module": "@jupyter-widgets/controls",
          "model_name": "FloatProgressModel",
          "state": {
            "_view_name": "ProgressView",
            "style": "IPY_MODEL_f1900b429e3541b6a1a1347116566151",
            "_dom_classes": [],
            "description": "100%",
            "_model_name": "FloatProgressModel",
            "bar_style": "success",
            "max": 80000,
            "_view_module": "@jupyter-widgets/controls",
            "_model_module_version": "1.5.0",
            "value": 80000,
            "_view_count": null,
            "_view_module_version": "1.5.0",
            "orientation": "horizontal",
            "min": 0,
            "description_tooltip": null,
            "_model_module": "@jupyter-widgets/controls",
            "layout": "IPY_MODEL_a5ea0431a59d427a9023b6f3958fd69e"
          }
        },
        "fb762a678dd84d44ad4b44b0a36b21e5": {
          "model_module": "@jupyter-widgets/controls",
          "model_name": "HTMLModel",
          "state": {
            "_view_name": "HTMLView",
            "style": "IPY_MODEL_4f41f9c9e0f7469ab6357cafbe872cbb",
            "_dom_classes": [],
            "description": "",
            "_model_name": "HTMLModel",
            "placeholder": "​",
            "_view_module": "@jupyter-widgets/controls",
            "_model_module_version": "1.5.0",
            "value": " 80000/80000 [00:02&lt;00:00, 30187.54it/s]",
            "_view_count": null,
            "_view_module_version": "1.5.0",
            "description_tooltip": null,
            "_model_module": "@jupyter-widgets/controls",
            "layout": "IPY_MODEL_5adb42003c1e4481af854b11a9ad1fe8"
          }
        },
        "f1900b429e3541b6a1a1347116566151": {
          "model_module": "@jupyter-widgets/controls",
          "model_name": "ProgressStyleModel",
          "state": {
            "_view_name": "StyleView",
            "_model_name": "ProgressStyleModel",
            "description_width": "initial",
            "_view_module": "@jupyter-widgets/base",
            "_model_module_version": "1.5.0",
            "_view_count": null,
            "_view_module_version": "1.2.0",
            "bar_color": null,
            "_model_module": "@jupyter-widgets/controls"
          }
        },
        "a5ea0431a59d427a9023b6f3958fd69e": {
          "model_module": "@jupyter-widgets/base",
          "model_name": "LayoutModel",
          "state": {
            "_view_name": "LayoutView",
            "grid_template_rows": null,
            "right": null,
            "justify_content": null,
            "_view_module": "@jupyter-widgets/base",
            "overflow": null,
            "_model_module_version": "1.2.0",
            "_view_count": null,
            "flex_flow": null,
            "width": null,
            "min_width": null,
            "border": null,
            "align_items": null,
            "bottom": null,
            "_model_module": "@jupyter-widgets/base",
            "top": null,
            "grid_column": null,
            "overflow_y": null,
            "overflow_x": null,
            "grid_auto_flow": null,
            "grid_area": null,
            "grid_template_columns": null,
            "flex": null,
            "_model_name": "LayoutModel",
            "justify_items": null,
            "grid_row": null,
            "max_height": null,
            "align_content": null,
            "visibility": null,
            "align_self": null,
            "height": null,
            "min_height": null,
            "padding": null,
            "grid_auto_rows": null,
            "grid_gap": null,
            "max_width": null,
            "order": null,
            "_view_module_version": "1.2.0",
            "grid_template_areas": null,
            "object_position": null,
            "object_fit": null,
            "grid_auto_columns": null,
            "margin": null,
            "display": null,
            "left": null
          }
        },
        "4f41f9c9e0f7469ab6357cafbe872cbb": {
          "model_module": "@jupyter-widgets/controls",
          "model_name": "DescriptionStyleModel",
          "state": {
            "_view_name": "StyleView",
            "_model_name": "DescriptionStyleModel",
            "description_width": "",
            "_view_module": "@jupyter-widgets/base",
            "_model_module_version": "1.5.0",
            "_view_count": null,
            "_view_module_version": "1.2.0",
            "_model_module": "@jupyter-widgets/controls"
          }
        },
        "5adb42003c1e4481af854b11a9ad1fe8": {
          "model_module": "@jupyter-widgets/base",
          "model_name": "LayoutModel",
          "state": {
            "_view_name": "LayoutView",
            "grid_template_rows": null,
            "right": null,
            "justify_content": null,
            "_view_module": "@jupyter-widgets/base",
            "overflow": null,
            "_model_module_version": "1.2.0",
            "_view_count": null,
            "flex_flow": null,
            "width": null,
            "min_width": null,
            "border": null,
            "align_items": null,
            "bottom": null,
            "_model_module": "@jupyter-widgets/base",
            "top": null,
            "grid_column": null,
            "overflow_y": null,
            "overflow_x": null,
            "grid_auto_flow": null,
            "grid_area": null,
            "grid_template_columns": null,
            "flex": null,
            "_model_name": "LayoutModel",
            "justify_items": null,
            "grid_row": null,
            "max_height": null,
            "align_content": null,
            "visibility": null,
            "align_self": null,
            "height": null,
            "min_height": null,
            "padding": null,
            "grid_auto_rows": null,
            "grid_gap": null,
            "max_width": null,
            "order": null,
            "_view_module_version": "1.2.0",
            "grid_template_areas": null,
            "object_position": null,
            "object_fit": null,
            "grid_auto_columns": null,
            "margin": null,
            "display": null,
            "left": null
          }
        }
      }
    }
  },
  "cells": [
    {
      "cell_type": "code",
      "metadata": {
        "colab": {
          "base_uri": "https://localhost:8080/"
        },
        "id": "ww06L2o7mCQK",
        "outputId": "1189253f-d17f-41b7-8303-181f11676474"
      },
      "source": [
        "from tqdm.notebook import tqdm\r\n",
        "from tensorflow import keras\r\n",
        "from matplotlib import pyplot as plt\r\n",
        "import numpy as np\r\n",
        "import cv2\r\n",
        "import sys\r\n",
        "from google.colab import drive\r\n",
        "\r\n",
        "drive.mount('/content/drive')\r\n",
        "sys.path.append('/content/drive/MyDrive/HodaDatasetReader')"
      ],
      "execution_count": 20,
      "outputs": [
        {
          "output_type": "stream",
          "text": [
            "Drive already mounted at /content/drive; to attempt to forcibly remount, call drive.mount(\"/content/drive\", force_remount=True).\n"
          ],
          "name": "stdout"
        }
      ]
    },
    {
      "cell_type": "code",
      "metadata": {
        "id": "VQxN_tW2nftY"
      },
      "source": [
        "from HodaDatasetReader import read_hoda_cdb, read_hoda_dataset\r\n",
        "\r\n",
        "trainImages, trainLabels = read_hoda_cdb('/content/drive/MyDrive/HodaDatasetReader/DigitDB/Train 60000.cdb')\r\n",
        "testImages, testLabels = read_hoda_cdb('/content/drive/MyDrive/HodaDatasetReader/DigitDB/Test 20000.cdb')"
      ],
      "execution_count": 23,
      "outputs": []
    },
    {
      "cell_type": "code",
      "metadata": {
        "colab": {
          "base_uri": "https://localhost:8080/",
          "height": 347,
          "referenced_widgets": [
            "390573eb34084911a165f20291823636",
            "82ebcc3864634b40acb5ad69c6d9ba55",
            "e2ead38ed1bf4316affda58d89a89e4c",
            "fb762a678dd84d44ad4b44b0a36b21e5",
            "f1900b429e3541b6a1a1347116566151",
            "a5ea0431a59d427a9023b6f3958fd69e",
            "4f41f9c9e0f7469ab6357cafbe872cbb",
            "5adb42003c1e4481af854b11a9ad1fe8"
          ]
        },
        "id": "NumKg5MIpTRI",
        "outputId": "0d833a7a-d481-431c-aa6d-8c605dbe0836"
      },
      "source": [
        "num_classes = 10\r\n",
        "y_train = keras.utils.to_categorical(trainLabels, num_classes)\r\n",
        "y_test = keras.utils.to_categorical(testLabels, num_classes)\r\n",
        "\r\n",
        "def resizeImage(img, h, w):\r\n",
        "    ret = np.zeros((h,w), np.uint8)\r\n",
        "    padTop = (h-img.shape[0])//2\r\n",
        "    padLeft = (w-img.shape[1])//2\r\n",
        "    ret[padTop:img.shape[0]+padTop, padLeft:padLeft+img.shape[1]] = img\r\n",
        "    ret2 = np.zeros((h,w,3), np.uint8)\r\n",
        "    ret2[:,:,0] = ret\r\n",
        "    return ret2\r\n",
        "\r\n",
        "allImages = trainImages+testImages\r\n",
        "\r\n",
        "w_max = 0\r\n",
        "h_max = 0\r\n",
        "\r\n",
        "for i in tqdm(range(len(allImages))):\r\n",
        "    h_max, w_max = max(h_max, allImages[i].shape[0]), max(w_max, allImages[i].shape[1])\r\n",
        "\r\n",
        "print (\"Optimal height is %d and optimal width is %d\" % (max(h_max, w_max), max(h_max, w_max)))\r\n",
        "\r\n",
        "\r\n",
        "for i in range(len(allImages)):\r\n",
        "    allImages[i] = resizeImage(allImages[i], max(h_max, w_max), max(h_max, w_max))\r\n",
        "\r\n",
        "trainImages, testImages = allImages[0:len(trainImages)], allImages[len(trainImages):]\r\n",
        "\r\n",
        "x_train = np.array(trainImages,np.float32)/255\r\n",
        "x_test = np.array(testImages, np.float32)/255\r\n",
        "\r\n",
        "plt.title(\"Equalized image\")\r\n",
        "plt.imshow(trainImages[4])\r\n",
        "plt.show()\r\n"
      ],
      "execution_count": 31,
      "outputs": [
        {
          "output_type": "display_data",
          "data": {
            "application/vnd.jupyter.widget-view+json": {
              "model_id": "390573eb34084911a165f20291823636",
              "version_minor": 0,
              "version_major": 2
            },
            "text/plain": [
              "HBox(children=(FloatProgress(value=0.0, max=80000.0), HTML(value='')))"
            ]
          },
          "metadata": {
            "tags": []
          }
        },
        {
          "output_type": "stream",
          "text": [
            "\n",
            "Optimal height is 64 and optimal width is 64\n"
          ],
          "name": "stdout"
        },
        {
          "output_type": "display_data",
          "data": {
            "image/png": "[encoded data removed]",
            "text/plain": [
              "<Figure size 432x288 with 1 Axes>"
            ]
          },
          "metadata": {
            "tags": [],
            "needs_background": "light"
          }
        }
      ]
    },
    {
      "cell_type": "code",
      "metadata": {
        "colab": {
          "base_uri": "https://localhost:8080/"
        },
        "id": "mG81oHiHqMzr",
        "outputId": "f42aeb81-38b3-4293-c133-d1bbaf086a64"
      },
      "source": [
        "# define model with pooling\r\n",
        "model = keras.Sequential()\r\n",
        "model.add(keras.layers.Input(shape=x_train[0].shape))\r\n",
        "model.add(keras.layers.Conv2D(filters=6, kernel_size=(5, 5), activation='relu'))\r\n",
        "model.add(keras.layers.MaxPool2D())\r\n",
        "model.add(keras.layers.Conv2D(filters=16, kernel_size=(5, 5), activation='relu'))\r\n",
        "model.add(keras.layers.MaxPool2D())\r\n",
        "model.add(keras.layers.Flatten(input_shape=x_train[0].shape))\r\n",
        "model.add(keras.layers.Dense(units=120, activation='relu'))\r\n",
        "model.add(keras.layers.Dense(units=84, activation='relu'))\r\n",
        "model.add(keras.layers.Dense(units=num_classes, activation='softmax'))\r\n",
        "\r\n",
        "model.summary()"
      ],
      "execution_count": 32,
      "outputs": [
        {
          "output_type": "stream",
          "text": [
            "Model: \"sequential_5\"\n",
            "_________________________________________________________________\n",
            "Layer (type)                 Output Shape              Param #   \n",
            "=================================================================\n",
            "conv2d_5 (Conv2D)            (None, 60, 60, 6)         456       \n",
            "_________________________________________________________________\n",
            "max_pooling2d (MaxPooling2D) (None, 30, 30, 6)         0         \n",
            "_________________________________________________________________\n",
            "conv2d_6 (Conv2D)            (None, 26, 26, 16)        2416      \n",
            "_________________________________________________________________\n",
            "max_pooling2d_1 (MaxPooling2 (None, 13, 13, 16)        0         \n",
            "_________________________________________________________________\n",
            "flatten (Flatten)            (None, 2704)              0         \n",
            "_________________________________________________________________\n",
            "dense (Dense)                (None, 120)               324600    \n",
            "_________________________________________________________________\n",
            "dense_1 (Dense)              (None, 84)                10164     \n",
            "_________________________________________________________________\n",
            "dense_2 (Dense)              (None, 10)                850       \n",
            "=================================================================\n",
            "Total params: 338,486\n",
            "Trainable params: 338,486\n",
            "Non-trainable params: 0\n",
            "_________________________________________________________________\n"
          ],
          "name": "stdout"
        }
      ]
    },
    {
      "cell_type": "code",
      "metadata": {
        "colab": {
          "base_uri": "https://localhost:8080/"
        },
        "id": "UPJb-MD6vjJP",
        "outputId": "a31bc4e1-9dcf-4aaa-f5ca-7a3139897946"
      },
      "source": [
        "# compile model\r\n",
        "model.compile(loss='categorical_crossentropy', optimizer='adam', metrics=['accuracy'])\r\n",
        "\r\n",
        "# train model\r\n",
        "history = model.fit(x_train, y_train,\r\n",
        "                    batch_size=100,\r\n",
        "                    epochs=10,\r\n",
        "                    validation_data=(x_test, y_test),\r\n",
        "                    shuffle=True)"
      ],
      "execution_count": 33,
      "outputs": [
        {
          "output_type": "stream",
          "text": [
            "Epoch 1/10\n",
            "600/600 [==============================] - 12s 8ms/step - loss: 0.3749 - accuracy: 0.8907 - val_loss: 0.0931 - val_accuracy: 0.9714\n",
            "Epoch 2/10\n",
            "600/600 [==============================] - 5s 8ms/step - loss: 0.0356 - accuracy: 0.9886 - val_loss: 0.0558 - val_accuracy: 0.9822\n",
            "Epoch 3/10\n",
            "600/600 [==============================] - 5s 8ms/step - loss: 0.0159 - accuracy: 0.9950 - val_loss: 0.0587 - val_accuracy: 0.9812\n",
            "Epoch 4/10\n",
            "600/600 [==============================] - 5s 8ms/step - loss: 0.0135 - accuracy: 0.9955 - val_loss: 0.0424 - val_accuracy: 0.9875\n",
            "Epoch 5/10\n",
            "600/600 [==============================] - 5s 8ms/step - loss: 0.0097 - accuracy: 0.9970 - val_loss: 0.0478 - val_accuracy: 0.9867\n",
            "Epoch 6/10\n",
            "600/600 [==============================] - 5s 8ms/step - loss: 0.0082 - accuracy: 0.9971 - val_loss: 0.0470 - val_accuracy: 0.9871\n",
            "Epoch 7/10\n",
            "600/600 [==============================] - 5s 8ms/step - loss: 0.0057 - accuracy: 0.9980 - val_loss: 0.0439 - val_accuracy: 0.9884\n",
            "Epoch 8/10\n",
            "600/600 [==============================] - 5s 8ms/step - loss: 0.0053 - accuracy: 0.9983 - val_loss: 0.0473 - val_accuracy: 0.9880\n",
            "Epoch 9/10\n",
            "600/600 [==============================] - 5s 8ms/step - loss: 0.0036 - accuracy: 0.9988 - val_loss: 0.0565 - val_accuracy: 0.9859\n",
            "Epoch 10/10\n",
            "600/600 [==============================] - 5s 8ms/step - loss: 0.0046 - accuracy: 0.9984 - val_loss: 0.0482 - val_accuracy: 0.9884\n"
          ],
          "name": "stdout"
        }
      ]
    },
    {
      "cell_type": "code",
      "metadata": {
        "colab": {
          "base_uri": "https://localhost:8080/",
          "height": 298
        },
        "id": "eFJt5NUwv0vf",
        "outputId": "4ef46ae0-16cd-49f8-d30d-2b077e64ab6c"
      },
      "source": [
        "# plot confusion matrix\r\n",
        "import sklearn.metrics\r\n",
        "\r\n",
        "y_pred = model.predict(x_test)\r\n",
        "y_pred = np.argmax(y_pred, axis=1)\r\n",
        "y_true = np.argmax(y_test, axis=1)\r\n",
        "\r\n",
        "conf = sklearn.metrics.confusion_matrix(y_true, y_pred, normalize=None)\r\n",
        "\r\n",
        "plt.imshow(conf)\r\n",
        "plt.title(\"Confusion matrix\")"
      ],
      "execution_count": 36,
      "outputs": [
        {
          "output_type": "execute_result",
          "data": {
            "text/plain": [
              "Text(0.5, 1.0, 'Confusion matrix')"
            ]
          },
          "metadata": {
            "tags": []
          },
          "execution_count": 36
        },
        {
          "output_type": "display_data",
          "data": {
            "image/png": "[encoded data removed]",
            "text/plain": [
              "<Figure size 432x288 with 1 Axes>"
            ]
          },
          "metadata": {
            "tags": [],
            "needs_background": "light"
          }
        }
      ]
    }
  ]
}