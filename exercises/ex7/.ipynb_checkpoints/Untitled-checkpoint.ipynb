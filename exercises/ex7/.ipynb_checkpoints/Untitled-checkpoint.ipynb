{
 "cells": [
  {
   "cell_type": "code",
   "execution_count": 19,
   "metadata": {},
   "outputs": [
    {
     "name": "stdout",
     "output_type": "stream",
     "text": [
      "[[0 0 0 0 0 0]\n",
      " [0 0 0 0 0 0]\n",
      " [0 0 0 0 0 0]\n",
      " [0 0 0 0 0 0]\n",
      " [0 0 0 0 0 0]\n",
      " [0 0 0 0 0 0]]\n"
     ]
    }
   ],
   "source": [
    "import cv2 as cv\n",
    "import numpy as np\n",
    "\n",
    "\n",
    "def lbp(mat, r=1, c=8):\n",
    "    directions = [(-1,-1), (-1,0), (-1,+1), (0,+1), (+1,+1), (+1,0), (+1,-1), (0,-1)]\n",
    "    h, w = mat.shape\n",
    "    ret = np.zeros(mat.shape, np.uint8)\n",
    "    for j in range(r, h-r):\n",
    "        for i in range(r, w-r):\n",
    "            code = \"\"\n",
    "            for d in directions:\n",
    "                u = (d[0]+j, d[1]+i)\n",
    "                code += '0' if(mat[j,i] < mat[u[0], u[1]]) else '1'\n",
    "            ret[j, i] = int(code, 2)\n",
    "    return ret\n",
    "mat = np.array([\n",
    "        [0, 3, 5, 0, 2, 2],\n",
    "        [3, 1, 2, 1, 0, 3],\n",
    "        [1, 0, 3, 4, 2, 1],\n",
    "        [2, 5, 3, 2, 0, 3],\n",
    "        [5, 0, 4, 3, 1, 0],\n",
    "        [1, 5, 2, 4, 1, 5]\n",
    "    ])\n",
    "\n",
    "\n",
    "print(lbp(mat))"
   ]
  },
  {
   "cell_type": "code",
   "execution_count": null,
   "metadata": {},
   "outputs": [],
   "source": []
  }
 ],
 "metadata": {
  "kernelspec": {
   "display_name": "Python 3",
   "language": "python",
   "name": "python3"
  },
  "language_info": {
   "codemirror_mode": {
    "name": "ipython",
    "version": 3
   },
   "file_extension": ".py",
   "mimetype": "text/x-python",
   "name": "python",
   "nbconvert_exporter": "python",
   "pygments_lexer": "ipython3",
   "version": "3.8.3"
  }
 },
 "nbformat": 4,
 "nbformat_minor": 4
}
