{
 "cells": [
  {
   "cell_type": "markdown",
   "metadata": {},
   "source": [
    "# Question 2\n",
    "Extract requaired features from [Hoda's Dataset](https://github.com/amir-saniyan/HodaDatasetReader) and train a SVM classifier for each group, then represent the resualts as confusion matrix and accuracy score for each method.\n",
    "\n",
    "Methods: \n",
    "\n",
    "* [HOG](https://scikit-image.org/docs/dev/api/skimage.feature.html#skimage.feature.hog)\n",
    "* [LBP](https://scikit-image.org/docs/dev/api/skimage.feature.html#skimage.feature.local_binary_pattern)\n",
    "* Using Local Binary Patterns(LBP) function predict by you.\n",
    "\n",
    "Firts let's read the datasets."
   ]
  },
  {
   "cell_type": "code",
   "execution_count": 15,
   "metadata": {},
   "outputs": [],
   "source": [
    "import numpy as np\n",
    "from tqdm.notebook import tqdm\n",
    "from sklearn.pipeline import make_pipeline\n",
    "from sklearn.preprocessing import StandardScaler\n",
    "from sklearn.svm import SVC\n",
    "import matplotlib.pyplot as plt\n",
    "from sklearn.metrics import roc_auc_score, plot_roc_curve\n",
    "from sklearn.metrics import precision_score, recall_score, confusion_matrix, classification_report, accuracy_score, f1_score"
   ]
  },
  {
   "cell_type": "code",
   "execution_count": 16,
   "metadata": {},
   "outputs": [],
   "source": [
    "from HodaDatasetReader.HodaDatasetReader import read_hoda_cdb, read_hoda_dataset\n",
    "\n",
    "trainImages, trainLabels = read_hoda_cdb('./DigitDB/Train 60000.cdb')\n",
    "testImages, testLabels = read_hoda_cdb('./DigitDB/Test 20000.cdb')"
   ]
  },
  {
   "cell_type": "markdown",
   "metadata": {},
   "source": [
    "With some investigations on images represented by the detaset, it seemed that they are not all in a same size. To have equal feature vectors we have to resize the pictures some how. A simple method that comes to mind is try to pad images with zeors. To do so, we first find optimal, width and height of each image which is the maximum width and height among the pictures. Our samples will be the size of (max(height), max(width)).  Defining required representations lets get back to code:\n",
    "\n",
    "> Note : that i dont want to use train data for any processing stages, just to save some time on computation on training just want to see which size my images must be at and equalize the images sizes."
   ]
  },
  {
   "cell_type": "code",
   "execution_count": 17,
   "metadata": {},
   "outputs": [
    {
     "data": {
      "application/vnd.jupyter.widget-view+json": {
       "model_id": "3917fec86ca640ce86dcf69792b8b9ca",
       "version_major": 2,
       "version_minor": 0
      },
      "text/plain": [
       "HBox(children=(FloatProgress(value=0.0, max=80000.0), HTML(value='')))"
      ]
     },
     "metadata": {},
     "output_type": "display_data"
    },
    {
     "name": "stdout",
     "output_type": "stream",
     "text": [
      "\n",
      "Optimal height is 64 and optimal width is 54\n"
     ]
    },
    {
     "data": {
      "image/png": "[encoded data removed]",
      "text/plain": [
       "<Figure size 432x288 with 1 Axes>"
      ]
     },
     "metadata": {
      "needs_background": "light"
     },
     "output_type": "display_data"
    }
   ],
   "source": [
    "def resizeImage(img, h, w):\n",
    "    ret = np.zeros((h,w), np.uint8)\n",
    "    padTop = (h-img.shape[0])//2\n",
    "    padLeft = (w-img.shape[1])//2\n",
    "    ret[padTop:img.shape[0]+padTop, padLeft:padLeft+img.shape[1]] = img\n",
    "    return ret\n",
    "\n",
    "allImages = trainImages+testImages\n",
    "\n",
    "w_max = 0\n",
    "h_max = 0\n",
    "\n",
    "for i in tqdm(range(len(allImages))):\n",
    "    h_max, w_max = max(h_max, allImages[i].shape[0]), max(w_max, allImages[i].shape[1])\n",
    "\n",
    "print (\"Optimal height is %d and optimal width is %d\" % (h_max, w_max))\n",
    "\n",
    "\n",
    "for i in range(len(allImages)):\n",
    "    allImages[i] = resizeImage(allImages[i], h_max, w_max)\n",
    "\n",
    "trainImages, testImages = allImages[0:len(trainImages)], allImages[len(trainImages):]\n",
    "\n",
    "plt.title(\"Equalized image\")\n",
    "plt.imshow(trainImages[4], cmap=\"gray\", vmin=0, vmax=255)\n",
    "plt.show()\n",
    "\n"
   ]
  },
  {
   "cell_type": "markdown",
   "metadata": {},
   "source": [
    "The required representation methods are HOG, Local Binary Pattern (LBP) from `skimage` library and a self implimented LBP function which are:"
   ]
  },
  {
   "cell_type": "code",
   "execution_count": 23,
   "metadata": {},
   "outputs": [],
   "source": [
    "import numpy as np\n",
    "from skimage.feature import hog, local_binary_pattern\n",
    "\n",
    "def lbp(mat, c=8, r=1):\n",
    "    h,w = mat.shape\n",
    "    paddedMat = np.zeros((h+2*r, w+2*r), np.uint8)\n",
    "    retMat = np.zeros((w,h))\n",
    "    paddedMat[r:h+r, r:w+r] = mat\n",
    "    directions = [(0,0),(0,1),(0,2),(1,2),(2,2),(2,1),(2,0),(1,0)]\n",
    "    for j in range(r, h+r):\n",
    "        for i in range(r,w+r):\n",
    "            code = paddedMat[j-r:j+r+1, i-r:i+r+1] >= paddedMat[j,i]\n",
    "            res = 0\n",
    "            counter=0\n",
    "            for d in directions:\n",
    "                res += (2**counter) if(code[d[0], d[1]] == True) else 0\n",
    "                counter += 1\n",
    "            retMat[j-r,i-r] = res\n",
    "    return retMat.astype(np.uint8)\n",
    "                    "
   ]
  },
  {
   "cell_type": "markdown",
   "metadata": {},
   "source": [
    "## SVM over HOG\n",
    "First, converting input images to their `HOG` texture representation using **skimage** library."
   ]
  },
  {
   "cell_type": "code",
   "execution_count": 20,
   "metadata": {},
   "outputs": [
    {
     "data": {
      "image/png": "[encoded data removed]",
      "text/plain": [
       "<Figure size 432x288 with 1 Axes>"
      ]
     },
     "metadata": {
      "needs_background": "light"
     },
     "output_type": "display_data"
    }
   ],
   "source": [
    "from tqdm.notebook import tqdm\n",
    "import pickle\n",
    "from skimage import exposure\n",
    "\n",
    "trainImagesHOG = []\n",
    "testImagesHOG = []\n",
    "\n",
    "for i in tqdm(range(len(trainImages))):\n",
    "    fd, hogImg = hog(trainImages[i], orientations=8, pixels_per_cell=(3, 3),\n",
    "                cells_per_block=(1, 1), visualize=True, multichannel=False)\n",
    "    hogImg = exposure.rescale_intensity(hogImg, in_range=(0, 1))\n",
    "    trainImagesHOG += [hogImg]\n",
    "    \n",
    "# pickle saves the converted data for farther usages and saves much aforts from us.     \n",
    "with open(\"./train-hog.pkl\", \"wb\") as file:\n",
    "    pickle.dump(trainImagesHOG, file)\n",
    "    \n",
    "for i in tqdm(range(len(testImages))):    \n",
    "    fd, hogImg = hog(testImages[i], orientations=8, pixels_per_cell=(3, 3),\n",
    "                cells_per_block=(1, 1), visualize=True, multichannel=False)\n",
    "    hogImg = exposure.rescale_intensity(hogImg, in_range=(0, 1))\n",
    "    testImagesHOG += [hogImg]\n",
    "    \n",
    "with open(\"./test-hog.pkl\", \"wb\") as file:\n",
    "    pickle.dump(testImagesHOG, file)\n",
    "    \n",
    "plt.title(\"HOG image\")\n",
    "plt.imshow(trainImagesHOG[4])\n",
    "plt.show()"
   ]
  },
  {
   "cell_type": "markdown",
   "metadata": {},
   "source": [
    "Using `Scikit-learn` library, we make a SVM classifier for training and representing the resualts.\n",
    "The results will be represented by confusion matrix and accuracy score of classifier which are agin given from `Scikit-learn` python library.\n",
    "\n",
    "As we know, SVM has two hyperparameters called, $\\beta$ and *C*. To obtain better resualts, we must to choose these hyperparameters to which has beter resualts on training. Since the training set is too big, due to high time complexity of training process, we can first use a validation set which can be a small part of training data to find the satisfying values for requaired hyperparameters. Therefore, to obtain a validation set, we can take 0.01 of training set as validation set by randomly sellecting among them.\n",
    "\n",
    "After having validation set, we use a *grid search* to obtain the desired values for $\\beta$ and *C*."
   ]
  },
  {
   "cell_type": "code",
   "execution_count": 21,
   "metadata": {
    "scrolled": false
   },
   "outputs": [
    {
     "name": "stdout",
     "output_type": "stream",
     "text": [
      "Best estimator score on Validation set is: 81.00\n",
      "Best estimator is: SVC(C=10, gamma=0.01)\n"
     ]
    }
   ],
   "source": [
    "import pickle\n",
    "import numpy as np\n",
    "from sklearn import svm\n",
    "from sklearn.model_selection import GridSearchCV\n",
    "from sklearn.model_selection import train_test_split # to having a validation set for our data\n",
    "from tqdm.notebook import tqdm\n",
    "\n",
    "xTrain = []\n",
    "xTest = []\n",
    "\n",
    "with open(\"./train-hog.pkl\", \"rb\") as file:\n",
    "    xTrain = pickle.load(file)\n",
    "\n",
    "with open(\"./test-hog.pkl\", \"rb\") as file:\n",
    "    xTest = pickle.load(file)\n",
    "\n",
    "for i in tqdm(range(len(xTrain))):\n",
    "    xTrain[i] = xTrain[i].flatten()\n",
    "    \n",
    "for i in tqdm(range(len(xTest))):\n",
    "    xTest[i] = xTest[i].flatten()\n",
    "\n",
    "xTrain = np.array(xTrain)\n",
    "xTest = np.array(xTest)\n",
    "\n",
    "xTrain, xValid, yTrain, yValid = train_test_split(xTrain, trainLabels, test_size=0.01)\n",
    "\n",
    "print(\"Validation set size is: %s\" % (xValid.shape,))\n",
    "\n",
    "parameters = {'gamma':[0.001, 0.01, 0.1, 1, 10], 'C':[0.001, 0.01, 0.1, 1, 10]}\n",
    "\n",
    "svc = svm.SVC()\n",
    "grid = GridSearchCV(svc, parameters, verbose = 10, n_jobs=-1)\n",
    "grid.fit(xValid, yValid)\n",
    "\n",
    "print(\"Best estimator score on Validation set is: %.2f\" % (grid.best_score_))\n",
    "print(\"Best estimator is: %s\" % (grid.best_estimator_,))"
   ]
  },
  {
   "cell_type": "markdown",
   "metadata": {},
   "source": [
    "Using best parameters from above grid search, we make a classifier and fit the model. "
   ]
  },
  {
   "cell_type": "code",
   "execution_count": 17,
   "metadata": {},
   "outputs": [
    {
     "name": "stdout",
     "output_type": "stream",
     "text": [
      "[LibSVM]"
     ]
    }
   ],
   "source": [
    "from sklearn.pipeline import make_pipeline\n",
    "from sklearn.preprocessing import StandardScaler\n",
    "from sklearn.svm import SVC\n",
    "from sklearn.preprocessing import MinMaxScaler\n",
    "\n",
    "scaling = MinMaxScaler(feature_range=(-1,1)).fit(xTrain)\n",
    "xTrain = scaling.transform(xTrain)\n",
    "xTest = scaling.transform(xTest)\n",
    "\n",
    "clf = make_pipeline(StandardScaler(with_mean=False), SVC(C=10, gamma=0.01, kernel=\"linear\", verbose = True, cache_size=2000))\n",
    "clf.fit(xTrain, yTrain)\n",
    "\n",
    "with open('./svm-hog.pkl', 'wb') as file:\n",
    "    pickle.dump(clf, file)"
   ]
  },
  {
   "cell_type": "code",
   "execution_count": 24,
   "metadata": {},
   "outputs": [
    {
     "name": "stdout",
     "output_type": "stream",
     "text": [
      "Accuracy is 0.91\n"
     ]
    },
    {
     "data": {
      "image/png": "[encoded data removed]",
      "text/plain": [
       "<Figure size 720x504 with 2 Axes>"
      ]
     },
     "metadata": {
      "needs_background": "light"
     },
     "output_type": "display_data"
    }
   ],
   "source": [
    "import seaborn as sn\n",
    "import pandas as pd\n",
    "import matplotlib.pyplot as plt\n",
    "\n",
    "clf = 0\n",
    "\n",
    "with open('./svm-hog.pkl', 'rb') as file:\n",
    "    clf = pickle.load(file)\n",
    "\n",
    "yPredict = clf.predict(xTest)\n",
    "accuracy = accuracy_score(testLabels, yPredict)\n",
    "cm = confusion_matrix(testLabels, yPredict)\n",
    "\n",
    "print(\"Accuracy is %.2f\" % (accuracy))\n",
    "\n",
    "df_cm = pd.DataFrame(cm, index = [i for i in \"0123456789\"],\n",
    "                  columns = [i for i in \"0123456789\"])\n",
    "plt.figure(figsize = (10,7))\n",
    "sn.heatmap(df_cm, annot=True)\n",
    "plt.title(\"confusion matrix for HOG\")\n",
    "plt.show()"
   ]
  },
  {
   "cell_type": "markdown",
   "metadata": {},
   "source": [
    "## SVM over Local Binary Pattern (LBP) from skimage\n",
    "\n",
    "As our previous routine, we firstly transform the data into LBP representatin, secondly flatten the images to have a feature vector and therdly scale the feature vectors to obtain better time complexity of algorithm and finally train the classifire over the train and represent the resualts. "
   ]
  },
  {
   "cell_type": "code",
   "execution_count": 24,
   "metadata": {},
   "outputs": [
    {
     "data": {
      "application/vnd.jupyter.widget-view+json": {
       "model_id": "d9296ca0458e4d65957586239fffdfb7",
       "version_major": 2,
       "version_minor": 0
      },
      "text/plain": [
       "HBox(children=(FloatProgress(value=0.0, max=60000.0), HTML(value='')))"
      ]
     },
     "metadata": {},
     "output_type": "display_data"
    },
    {
     "name": "stdout",
     "output_type": "stream",
     "text": [
      "\n"
     ]
    },
    {
     "data": {
      "application/vnd.jupyter.widget-view+json": {
       "model_id": "f159fd02b44844fbad7e6d5cc031f491",
       "version_major": 2,
       "version_minor": 0
      },
      "text/plain": [
       "HBox(children=(FloatProgress(value=0.0, max=20000.0), HTML(value='')))"
      ]
     },
     "metadata": {},
     "output_type": "display_data"
    },
    {
     "name": "stdout",
     "output_type": "stream",
     "text": [
      "\n"
     ]
    },
    {
     "data": {
      "image/png": "[encoded data removed]",
      "text/plain": [
       "<Figure size 432x288 with 1 Axes>"
      ]
     },
     "metadata": {
      "needs_background": "light"
     },
     "output_type": "display_data"
    }
   ],
   "source": [
    "from skimage.feature import local_binary_pattern\n",
    "from tqdm.notebook import tqdm\n",
    "import pickle\n",
    "from skimage import exposure\n",
    "\n",
    "trainImagesLBP = []\n",
    "testImagesLBP = []\n",
    "\n",
    "\n",
    "for i in tqdm(range(len(trainImages))):\n",
    "    lbpImage = local_binary_pattern(trainImages[i], 8, 1)\n",
    "    trainImagesLBP += [lbpImage]\n",
    "    \n",
    "# pickle saves the converted data for farther usages and saves much aforts from us.     \n",
    "with open(\"./train-lbp.pkl\", \"wb\") as file:\n",
    "    pickle.dump(trainImagesLBP, file)\n",
    "    \n",
    "for i in tqdm(range(len(testImages))):    \n",
    "    lbpImage = local_binary_pattern(testImages[i], 8, 1)\n",
    "    testImagesLBP += [lbpImage]\n",
    "    \n",
    "with open(\"./test-lbp.pkl\", \"wb\") as file:\n",
    "    pickle.dump(testImagesLBP, file)\n",
    "    \n",
    "plt.title(\"LBP image\")\n",
    "plt.imshow(trainImagesLBP[4])\n",
    "plt.show()"
   ]
  },
  {
   "cell_type": "markdown",
   "metadata": {},
   "source": [
    "As we remember, to obtain better resualts we also need good hyperparameters as well. Gridsearch on validation data obtains good $\\beta$ and *C* for SVM."
   ]
  },
  {
   "cell_type": "code",
   "execution_count": 25,
   "metadata": {},
   "outputs": [
    {
     "data": {
      "application/vnd.jupyter.widget-view+json": {
       "model_id": "cd7ec4dcd80b4585ac05d4624900db93",
       "version_major": 2,
       "version_minor": 0
      },
      "text/plain": [
       "HBox(children=(FloatProgress(value=0.0, max=60000.0), HTML(value='')))"
      ]
     },
     "metadata": {},
     "output_type": "display_data"
    },
    {
     "name": "stdout",
     "output_type": "stream",
     "text": [
      "\n"
     ]
    },
    {
     "data": {
      "application/vnd.jupyter.widget-view+json": {
       "model_id": "b78a4a8f527946b0973fa223aabdd8d8",
       "version_major": 2,
       "version_minor": 0
      },
      "text/plain": [
       "HBox(children=(FloatProgress(value=0.0, max=20000.0), HTML(value='')))"
      ]
     },
     "metadata": {},
     "output_type": "display_data"
    },
    {
     "name": "stdout",
     "output_type": "stream",
     "text": [
      "\n",
      "Validation set size is: (600, 3456)\n",
      "Fitting 5 folds for each of 25 candidates, totalling 125 fits\n"
     ]
    },
    {
     "name": "stderr",
     "output_type": "stream",
     "text": [
      "[Parallel(n_jobs=-1)]: Using backend LokyBackend with 12 concurrent workers.\n",
      "[Parallel(n_jobs=-1)]: Done   1 tasks      | elapsed:    6.2s\n",
      "[Parallel(n_jobs=-1)]: Done   8 tasks      | elapsed:    6.3s\n",
      "[Parallel(n_jobs=-1)]: Done  17 tasks      | elapsed:   11.2s\n",
      "[Parallel(n_jobs=-1)]: Done  26 tasks      | elapsed:   15.9s\n",
      "[Parallel(n_jobs=-1)]: Done  37 tasks      | elapsed:   20.5s\n",
      "[Parallel(n_jobs=-1)]: Done  48 tasks      | elapsed:   22.2s\n",
      "[Parallel(n_jobs=-1)]: Done  61 tasks      | elapsed:   30.1s\n",
      "[Parallel(n_jobs=-1)]: Done  74 tasks      | elapsed:   35.4s\n",
      "[Parallel(n_jobs=-1)]: Done  89 tasks      | elapsed:   40.6s\n",
      "[Parallel(n_jobs=-1)]: Done 115 out of 125 | elapsed:   50.9s remaining:    4.3s\n",
      "[Parallel(n_jobs=-1)]: Done 125 out of 125 | elapsed:   53.1s finished\n"
     ]
    },
    {
     "name": "stdout",
     "output_type": "stream",
     "text": [
      "Best estimator score on Validation set is: 0.87\n",
      "Best estimator is: SVC(C=10, gamma=0.001)\n"
     ]
    }
   ],
   "source": [
    "import pickle\n",
    "import numpy as np\n",
    "from sklearn import svm\n",
    "from sklearn.model_selection import GridSearchCV\n",
    "from sklearn.model_selection import train_test_split # to having a validation set for our data\n",
    "from tqdm.notebook import tqdm\n",
    "from sklearn.preprocessing import MinMaxScaler\n",
    "\n",
    "\n",
    "xTrain = []\n",
    "xTest = []\n",
    "\n",
    "with open(\"./train-lbp.pkl\", \"rb\") as file:\n",
    "    xTrain = pickle.load(file)\n",
    "\n",
    "with open(\"./test-lbp.pkl\", \"rb\") as file:\n",
    "    xTest = pickle.load(file)\n",
    "\n",
    "for i in tqdm(range(len(xTrain))):\n",
    "    xTrain[i] = xTrain[i].flatten()\n",
    "    \n",
    "for i in tqdm(range(len(xTest))):\n",
    "    xTest[i] = xTest[i].flatten()\n",
    "\n",
    "scaling = MinMaxScaler(feature_range=(-1,1)).fit(xTrain)\n",
    "xTrain = scaling.transform(xTrain)\n",
    "xTest = scaling.transform(xTest)\n",
    "    \n",
    "xTrain = np.array(xTrain)\n",
    "xTest = np.array(xTest)\n",
    "\n",
    "xTrain, xValid, yTrain, yValid = train_test_split(xTrain, trainLabels, test_size=0.01)\n",
    "\n",
    "print(\"Validation set size is: %s\" % (xValid.shape,))\n",
    "\n",
    "parameters = {'gamma':[0.001, 0.01, 0.1, 1, 10], 'C':[0.001, 0.01, 0.1, 1, 10]}\n",
    "\n",
    "svc = svm.SVC()\n",
    "grid = GridSearchCV(svc, parameters, verbose = 10, n_jobs=-1)\n",
    "grid.fit(xValid, yValid)\n",
    "\n",
    "print(\"Best estimator score on Validation set is: %.2f\" % (grid.best_score_))\n",
    "print(\"Best estimator is: %s\" % (grid.best_estimator_,))"
   ]
  },
  {
   "cell_type": "code",
   "execution_count": null,
   "metadata": {},
   "outputs": [
    {
     "name": "stdout",
     "output_type": "stream",
     "text": [
      "[LibSVM]"
     ]
    }
   ],
   "source": [
    "from sklearn.pipeline import make_pipeline\n",
    "from sklearn.preprocessing import StandardScaler\n",
    "from sklearn.svm import SVC\n",
    "\n",
    "clf = make_pipeline(StandardScaler(with_mean=False), SVC(C=10, gamma=0.001, kernel=\"linear\", verbose = True, cache_size=2000))\n",
    "clf.fit(xTrain, yTrain)\n",
    "\n",
    "with open('./svm-lbp.pkl', 'wb') as file:\n",
    "    pickle.dump(clf, file)"
   ]
  },
  {
   "cell_type": "code",
   "execution_count": 14,
   "metadata": {},
   "outputs": [
    {
     "data": {
      "application/vnd.jupyter.widget-view+json": {
       "model_id": "308c959e0c474f618b50a4046328ce6a",
       "version_major": 2,
       "version_minor": 0
      },
      "text/plain": [
       "HBox(children=(FloatProgress(value=0.0, max=60000.0), HTML(value='')))"
      ]
     },
     "metadata": {},
     "output_type": "display_data"
    },
    {
     "name": "stdout",
     "output_type": "stream",
     "text": [
      "\n"
     ]
    },
    {
     "data": {
      "application/vnd.jupyter.widget-view+json": {
       "model_id": "208209136b504f22891a1bc2b0739189",
       "version_major": 2,
       "version_minor": 0
      },
      "text/plain": [
       "HBox(children=(FloatProgress(value=0.0, max=20000.0), HTML(value='')))"
      ]
     },
     "metadata": {},
     "output_type": "display_data"
    },
    {
     "name": "stdout",
     "output_type": "stream",
     "text": [
      "\n",
      "(420,)\n"
     ]
    }
   ],
   "source": [
    "import seaborn as sn\n",
    "import pandas as pd\n",
    "import matplotlib.pyplot as plt\n",
    "\n",
    "clf = 0\n",
    "\n",
    "with open('./svm-lbp.pkl', 'rb') as file:\n",
    "    clf = pickle.load(file)\n",
    "\n",
    "yPredict = clf.predict(xTest)\n",
    "accuracy = accuracy_score(testLabels, yPredict)\n",
    "cm = confusion_matrix(testLabels, yPredict)\n",
    "\n",
    "print(\"Accuracy is %.2f\" % (accuracy))\n",
    "\n",
    "df_cm = pd.DataFrame(cm, index = [i for i in \"0123456789\"],\n",
    "                  columns = [i for i in \"0123456789\"])\n",
    "plt.figure(figsize = (10,7))\n",
    "sn.heatmap(df_cm, annot=True)\n",
    "plt.title(\"confusion matrix for LBP\")\n",
    "plt.show()"
   ]
  },
  {
   "cell_type": "code",
   "execution_count": null,
   "metadata": {},
   "outputs": [],
   "source": []
  }
 ],
 "metadata": {
  "kernelspec": {
   "display_name": "Python 3",
   "language": "python",
   "name": "python3"
  },
  "language_info": {
   "codemirror_mode": {
    "name": "ipython",
    "version": 3
   },
   "file_extension": ".py",
   "mimetype": "text/x-python",
   "name": "python",
   "nbconvert_exporter": "python",
   "pygments_lexer": "ipython3",
   "version": "3.8.3"
  }
 },
 "nbformat": 4,
 "nbformat_minor": 4
}
