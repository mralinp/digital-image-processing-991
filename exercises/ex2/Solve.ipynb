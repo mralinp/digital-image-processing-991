{
 "cells": [
  {
   "cell_type": "markdown",
   "metadata": {},
   "source": [
    "# Digital Image Proccessing\n",
    "## home work 2\n",
    "1. \n",
    "a) please draw the normalized histogram of given figure bellow.\n"
   ]
  },
  {
   "cell_type": "code",
   "execution_count": 4,
   "metadata": {},
   "outputs": [
    {
     "data": {
      "image/png": "[encoded data removed]",
      "text/plain": [
       "<Figure size 432x288 with 1 Axes>"
      ]
     },
     "metadata": {
      "needs_background": "light"
     },
     "output_type": "display_data"
    }
   ],
   "source": [
    "import matplotlib.pyplot as plt\n",
    "\n",
    "\n",
    "def question1a():\n",
    "    hist = [0, 2, 4, 6, 3, 1, 0, 0, 0, 0]\n",
    "    colors = [str(i) for i in range(10)]\n",
    "    n = 16  # 4*4 image\n",
    "    plt.title(\"Original Histogram\")\n",
    "    plt.xlabel(\"color value\")\n",
    "    plt.ylabel(\"color count\")\n",
    "    plt.bar(colors, hist, width=0.4)\n",
    "    accumilator = [0]\n",
    "    for i in hist:\n",
    "        accumilator += [accumilator[-1] + i]\n",
    "    accumilator = accumilator[1:]\n",
    "    color_map = [0]\n",
    "    for i in accumilator:\n",
    "        color_map += [int(9*(i/n))]\n",
    "    normalized_hist = [0 for i in range(10)]\n",
    "    for i in range(10):\n",
    "        normalized_hist[color_map[i]] = normalized_hist[color_map[i]] + hist[i]\n",
    "    plt.bar(colors, normalized_hist, width=0.4)\n",
    "    plt.xlabel(\"color value\")\n",
    "    plt.ylabel(\"pixel count\")\n",
    "    plt.title(\"Normalized Histogram\")\n",
    "    plt.show()\n",
    "\n",
    "question1a()\n",
    "    "
   ]
  },
  {
   "cell_type": "code",
   "execution_count": null,
   "metadata": {},
   "outputs": [],
   "source": []
  }
 ],
 "metadata": {
  "kernelspec": {
   "display_name": "Python 3",
   "language": "python",
   "name": "python3"
  },
  "language_info": {
   "codemirror_mode": {
    "name": "ipython",
    "version": 3
   },
   "file_extension": ".py",
   "mimetype": "text/x-python",
   "name": "python",
   "nbconvert_exporter": "python",
   "pygments_lexer": "ipython3",
   "version": "3.8.5"
  }
 },
 "nbformat": 4,
 "nbformat_minor": 4
}
